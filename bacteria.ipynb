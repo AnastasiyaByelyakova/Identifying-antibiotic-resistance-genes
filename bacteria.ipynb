{
  "nbformat": 4,
  "nbformat_minor": 0,
  "metadata": {
    "colab": {
      "name": "bacteria.ipynb",
      "version": "0.3.2",
      "provenance": [],
      "toc_visible": true,
      "include_colab_link": true
    },
    "kernelspec": {
      "name": "python3",
      "display_name": "Python 3"
    }
  },
  "cells": [
    {
      "cell_type": "markdown",
      "metadata": {
        "id": "view-in-github",
        "colab_type": "text"
      },
      "source": [
        "<a href=\"https://colab.research.google.com/github/AnastasiyaByelyakova/Identifying-antibiotic-resistance-genes/blob/master/bacteria.ipynb\" target=\"_parent\"><img src=\"https://colab.research.google.com/assets/colab-badge.svg\" alt=\"Open In Colab\"/></a>"
      ]
    },
    {
      "cell_type": "markdown",
      "metadata": {
        "id": "dA8JkwW_x0r-",
        "colab_type": "text"
      },
      "source": [
        "# Identifying antibiotics resistance genes "
      ]
    },
    {
      "cell_type": "markdown",
      "metadata": {
        "id": "qBBk6iSwxxWS",
        "colab_type": "text"
      },
      "source": [
        "The discovery and development of antibiotics led to optimism that infectious diseases  can be controlled and prevented. However, infections are still the leading cause of death in developing world. The main reason is the appearance of antimicrobial resistance. Emergence of antimicrobial resistance is inevitable to almost every new drug, and it is recognized as a major problem in the treatment of microbial infections in both hospitals and community. \n",
        "\n",
        "This work is aimed to identify the antibiotic resistance genes, what further could be used to find the antibiotic to which the pathogen will be vulnerable. This targeted treatment would lead to treating the disease effectively and slow down distribution and appearance of multi drug resistant stains.    \n",
        "\n",
        "Staphylococcus aureus, bacterial  pathogen causing a wide variety of clinical manifestations was selected as example stain for this work. "
      ]
    },
    {
      "cell_type": "markdown",
      "metadata": {
        "id": "qC5YqylNTU5l",
        "colab_type": "text"
      },
      "source": [
        "# Bacteria\n"
      ]
    },
    {
      "cell_type": "markdown",
      "metadata": {
        "id": "OW3jc4iINqHU",
        "colab_type": "text"
      },
      "source": [
        "Bacteria is a type of biological cell. They constitute a large domain of prokaryotic microorganisms -  that lacks a membrane-bound nucleus, mitochondria, or any other membrane-bound organelle. Typically a few micrometres in length, bacteria have a number of shapes, ranging from spheres to rods and spirals.\n",
        "In the prokaryotes, all the intracellular water-soluble components (proteins, DNA and metabolites) are located together in the cytoplasm enclosed by the cell membrane, rather than in separate cellular compartments. Bacteria, however, do possess protein-based bacterial microcompartments, which are thought to act as primitive organelles enclosed in protein shells. Some prokaryotes, such as cyanobacteria, may form large colonies. Others, such as myxobacteria, have multicellular stages in their life cycles.\n",
        "![alt text](https://upload.wikimedia.org/wikipedia/commons/c/c5/Prokaryote_cell.svg)\n",
        "\n"
      ]
    },
    {
      "cell_type": "markdown",
      "metadata": {
        "id": "OGotgDG0Obg6",
        "colab_type": "text"
      },
      "source": [
        "## Basic Anatomy of Bacterial Cell"
      ]
    },
    {
      "cell_type": "markdown",
      "metadata": {
        "id": "oxY7hSwEOzeA",
        "colab_type": "text"
      },
      "source": [
        "According to their structures bacterias are divided in two majoc goups:\n",
        "1. Gramm-positive bateria\n",
        "2. Gramm-neagative bacteria "
      ]
    },
    {
      "cell_type": "markdown",
      "metadata": {
        "id": "8HEG0VBcOboF",
        "colab_type": "text"
      },
      "source": [
        "The Gram-positive bacteria consists of cytoplasmic membrane surrounded by a tough and rigid mesh called cell wall. In contrast, Gram-negative bacteria consist of thin cell wall that is surrounded by second lipid membrane called outer membrane (OM). The space between the OM and cytoplasmic membrane is referred as periplasm. \n",
        "\n",
        "The OM is an additional protective layer in Gram-negative bacteria and prevents many substances from entering into the bacterium. However, this membrane contains channels called porins, which allow the entry of various molecules such as drugs. The cell wall is a tough layer that gives bacterium a characteristic shape and prevents it from osmotic and mechanical stresses. The cytoplasmic membrane prevents ions from flowing into or out of the cell and maintains the cytoplasmic and bacterial components in a defined space.\n",
        "\n",
        "![alt text](https://upload.wikimedia.org/wikipedia/commons/5/52/Gram-Cell-wall.svg)"
      ]
    },
    {
      "cell_type": "markdown",
      "metadata": {
        "id": "rKXLSNhsObvE",
        "colab_type": "text"
      },
      "source": [
        "# Antibiotics"
      ]
    },
    {
      "cell_type": "markdown",
      "metadata": {
        "id": "a9WeXTonOb1B",
        "colab_type": "text"
      },
      "source": [
        "An antibiotic, also called an antibacterial, is a type of antimicrobial drug used in the treatment and prevention of bacterial infections. They may either kill or inhibit the growth of bacteria."
      ]
    },
    {
      "cell_type": "markdown",
      "metadata": {
        "id": "Dbm3zHuASS2L",
        "colab_type": "text"
      },
      "source": [
        "## Classification of Antibiotics on the Basis of Mechanism of Action\n"
      ]
    },
    {
      "cell_type": "markdown",
      "metadata": {
        "id": "k4UdzjddSS5Z",
        "colab_type": "text"
      },
      "source": [
        "Antibiotic agents may act on different targets in bacterial cell.\n",
        "Among tham are :\n",
        "1. Cell wall \n",
        "2. Protein biosynthesis\n",
        "3. DNA replication \n",
        "4. Folic acid metabolism\n",
        "\n",
        "\n",
        "\n",
        "![alt text](https://upload.wikimedia.org/wikipedia/commons/0/08/Antibiotics_action.svg)\n",
        "\n"
      ]
    },
    {
      "cell_type": "markdown",
      "metadata": {
        "id": "i60s0MbdSS7v",
        "colab_type": "text"
      },
      "source": [
        "**Antibiotics targeting cell wall**\n",
        "\n",
        "Bacterial cells are surrounded by a cell wall made of peptidoglycan, which consists of long sugar polymers. The peptidoglycan undergoes cross-linking of the glycan strands by the action of transglycosidases, and the peptide chains extend from the sugars in the polymers and form cross links, one peptide to another. The D-alanyl-alanine portion of peptide chain is cross linked by glycine residues in the presence of penicillin binding proteins (PBPs). This cross-linking strengthens the cell wall. β-lactams and the glycopeptides inhibit cell wall synthesis.\n",
        "\n"
      ]
    },
    {
      "cell_type": "markdown",
      "metadata": {
        "id": "HjjYxgX0SS-X",
        "colab_type": "text"
      },
      "source": [
        "**Inhibitors of protein biosynthesis**\n",
        "\n",
        "First the information in bacterial DNA is used to synthesize an RNA molecule referred to as messenger RNA (m-RNA) a process known as transcription. Then, the macromolecular structure called ribosome synthesizes proteins present in m-RNA, a process called translation. Protein biosynthesis is catalyzed by ribosomes and cytoplasmic factors. The bacterial 70S ribosome is composed of two ribonucleoprotein subunits, the 30S and 50S subunits. Antimicrobials inhibit protein biosynthesis by targeting the 30S or 50S subunit of the bacterial ribosome."
      ]
    },
    {
      "cell_type": "markdown",
      "metadata": {
        "id": "CDsVsmfDThlj",
        "colab_type": "text"
      },
      "source": [
        "**Inhibitors of DNA replication**\n",
        "\n",
        "The fluoroquinolones (FQ) inhibit the enzyme bacterial DNA gyrase, which nicks the double-stranded DNA, introduces negative supercoils and then reseals the nicked ends. This is necessary to prevent excessive positive supercoiling of the strands when they separate to permit replication or transcription. The DNA gyrase consists of two A subunits and two B subunits. A subunit carries out the nicking of DNA, B subunit introduces negative supercoils, and then A subunit reseal the strands. The FQ's bind to A subunit with high affinity and interfere with its strand cutting and resealing function. In Gram-positive bacteria, the major target of action is topoisomerase IV which nicks and separate's daughter DNA strand after DNA replication.\n"
      ]
    },
    {
      "cell_type": "markdown",
      "metadata": {
        "id": "B_MSZlTkUePd",
        "colab_type": "text"
      },
      "source": [
        "**Folic acid metabolism inhibitors**\n",
        "\n",
        "Such antibiotics are ulfonamides and trimethoprim. \n",
        "Each of these drugs inhibits distinct steps in folic acid metabolism. A combination of sulpha drugs and trimethoprim acting at distinct steps on the same biosynthetic pathway shows synergy and a reduced mutation rate for resistance. Sulfonamides inhibit dihydropteroate synthase in a competitive manner with higher affinity for the enzyme than the natural substrate, p-amino benzoic acid. Agents such as trimethoprim act at a later stage of folic acid synthesis and inhibit the enzyme dihydrofolate reductase."
      ]
    },
    {
      "cell_type": "markdown",
      "metadata": {
        "id": "Gcr4p2MdUeXz",
        "colab_type": "text"
      },
      "source": [
        "# Mechanisms of Antimicrobial Resistance\n"
      ]
    },
    {
      "cell_type": "markdown",
      "metadata": {
        "id": "3aO2j-AWUeoF",
        "colab_type": "text"
      },
      "source": [
        "## Efflux pumps\n"
      ]
    },
    {
      "cell_type": "markdown",
      "metadata": {
        "id": "gxsHqU5zUewD",
        "colab_type": "text"
      },
      "source": [
        "Membrane proteins that export antibiotics from the cell and maintain their low-intracellular concentrations are called efflux pumps. At the same speed, where these antimicrobials are entering the cell, efflux mechanisms are pumping them out again, before they reach their target. These pumps are present in the cytoplasmic membrane, unlike porins which are present in OM. Antibiotics of all classes except polymyxin are susceptible to the activation of efflux systems. Efflux pumps can be specific to antibiotics. Most of them are multidrug transporters that are capable to pump a wide range of unrelated antibiotics and thus significantly contribute to multidrug resistant organisms.\n"
      ]
    },
    {
      "cell_type": "markdown",
      "metadata": {
        "id": "lP9luX39VXjK",
        "colab_type": "text"
      },
      "source": [
        "## Modification of target molecule\n"
      ]
    },
    {
      "cell_type": "markdown",
      "metadata": {
        "id": "vWtvhzs7VXmh",
        "colab_type": "text"
      },
      "source": [
        "Natural variations or acquired changes in the target sites of antimicrobials that prevent drug binding is a common mechanism of resistance. Target site changes often result from spontaneous mutation of a bacterial gene on the chromosome. Since antibiotic interaction with target molecule is generally quite specific, minor alteration of the target molecule can have important effect on antibiotic binding."
      ]
    },
    {
      "cell_type": "markdown",
      "metadata": {
        "id": "8HHImcxeVXpa",
        "colab_type": "text"
      },
      "source": [
        "## Antibiotic inactivation\n"
      ]
    },
    {
      "cell_type": "markdown",
      "metadata": {
        "id": "Rq8oDTH4V5XJ",
        "colab_type": "text"
      },
      "source": [
        "There are three main enzymes that inactivate antibiotics such as β-lactamases, aminoglycoside-modifying enzymes, and chloramphenicol acetyltransferases.\n",
        "\n",
        "**Beta-lactamases**\n",
        "β-lactamases hydrolyze nearly all β-lactams that have ester and amide bond, e.g., penicillins, cephalosporins, monobactams, and carbapenems. About 300 β-lactamases are known till date. β-lactamases are broadly prevalent enzymes that are classified using two main classification systems: Ambler (structural) and Bush–Jacoby–Medeiros (functional).\n",
        "\n",
        "**Aminoglycoside modifying enzymes (AGE's)**\n",
        "AG are neutralized by specific enzymes: Phosphoryl-transferases, nucleotidyl-transferases or adenylyl-transferases, and AACs. These aminoglycoside-modifying enzymes (AMEs) reduce affinity of a modified molecule, impede binding to the 30S ribosomal subunit, and provide extended spectrum resistance to AG's and FQ. AMEs are identified in S. aureus, E. faecalis, and S. pneumoniae strains.\n",
        "\n",
        "**Chloramphenicol-acetyl-transferases**\n",
        "Few Gram-positive and Gram-negative bacteria and some of Haemophilus influenzae strains are resistant to chloramphenicol, and they have an enzyme chloramphenicol transacetylase that acetylates hydroxyl groups of chloramphenicol. Modified chloramphenicol is unable to bind to a ribosomal 50S subunit properly.\n"
      ]
    },
    {
      "cell_type": "markdown",
      "metadata": {
        "id": "Ndo_FzENffec",
        "colab_type": "text"
      },
      "source": [
        "# Staphylococcus aureus"
      ]
    },
    {
      "cell_type": "markdown",
      "metadata": {
        "id": "uAJgVFQaffqT",
        "colab_type": "text"
      },
      "source": [
        "Staphylococcus aureus is a Gram-positive, round-shaped bacterium that is a member of the Firmicutes, and it is a member of the normal flora of the body, frequently found in the nose, respiratory tract, and on the skin. It is often positive for catalase and nitrate reduction and is a facultative anaerobe that can grow without the need for oxygen. \n",
        "\n",
        "Pathogenic strains often promote infections by producing virulence factors such as potent protein toxins, and the expression of a cell-surface protein that binds and inactivates antibodies. The emergence of antibiotic-resistant strains of S. aureus such as methicillin-resistant S. aureus (MRSA) is a worldwide problem in clinical medicine. Despite much research and development, no vaccine for S. aureus has been approved.\n",
        "\n",
        "\n",
        "![alt text](https://upload.wikimedia.org/wikipedia/commons/d/d3/Staphylococcus_aureus_VISA_2.jpg)"
      ]
    },
    {
      "cell_type": "markdown",
      "metadata": {
        "id": "e5W5JpuJhgfO",
        "colab_type": "text"
      },
      "source": [
        "## Pathophysiology"
      ]
    },
    {
      "cell_type": "markdown",
      "metadata": {
        "id": "dAnBMvMUhgAk",
        "colab_type": "text"
      },
      "source": [
        "S. aureus are one the most common bacterial infections in humans and are the causative agents of multiple human infections, including bacteremia, infective endocarditis, skin and soft tissue infections (e.g., impetigo, folliculitis, furuncles, carbuncles, cellulitis, scalded skin syndrome, and others), osteomyelitis, septic arthritis, prosthetic device infections, pulmonary infections (e.g., pneumonia and empyema), gastroenteritis, meningitis, toxic shock syndrome, and urinary tract infections. Depending on the strains involved and the site of infection, these bacteria can cause invasive infections and/or toxin-mediated diseases. The pathophysiology varies greatly depending on the type of S. aureus infection. Mechanisms for evasion of the host immune response include the production of an antiphagocytic capsule, sequestering of host antibodies or antigen masking by Protein A, biofilm formation, intracellular survival, and blocking chemotaxis of leukocytes. Binding of the bacteria to extracellular matrix proteins and fibronectin in infectious endocarditis is mediated by bacterial cell wall-associated proteins such as fibrinogen-binding proteins, clumping factors, and teichoic acids. Also, Staphylococcal superantigens (TSST-1 or toxic shock syndrome toxin 1) are important virulence factors in infectious endocarditis, sepsis, as well as toxic shock syndrome. Pneumonia infections are associated with the bacterial production of PVL (Panton-Valentine leukocidin), Protein A, and alpha-hemolysin, and infections are more common following influenza virus infection as well as a diagnosis of Cystic Fibrosis. Prosthetic device infections are often mediated by the ability of S. aureus strains to form biofilms as well as communicate using quorum sensing in a bacterial cell density-dependent manner.\n",
        "\n"
      ]
    },
    {
      "cell_type": "markdown",
      "metadata": {
        "id": "yRfsn3hbffwr",
        "colab_type": "text"
      },
      "source": [
        "## Antibiotic resistance"
      ]
    },
    {
      "cell_type": "markdown",
      "metadata": {
        "id": "Z5itlNongvoW",
        "colab_type": "text"
      },
      "source": [
        "Staphylococcal resistance to penicillin is mediated by penicillinase (a form of β-lactamase) production: an enzyme that cleaves the β-lactam ring of the penicillin molecule, rendering the antibiotic ineffective. Penicillinase-resistant β-lactam antibiotics, such as methicillin, nafcillin, oxacillin, cloxacillin, dicloxacillin, and flucloxacillin, are able to resist degradation by staphylococcal penicillinase.\n",
        "\n",
        "Resistance to methicillin is mediated via the mec operon, part of the staphylococcal cassette chromosome mec (SCCmec). Resistance is conferred by the mecA gene, which codes for an altered penicillin-binding protein (PBP2a or PBP2') that has a lower affinity for binding β-lactams (penicillins, cephalosporins, and carbapenems). This allows for resistance to all β-lactam antibiotics, and obviates their clinical use during MRSA infections. As such, the glycopeptide vancomycin is often deployed against MRSA.\n",
        "\n",
        "Aminoglycoside antibiotics, such as kanamycin, gentamicin, streptomycin, etc., were once effective against staphylococcal infections until strains evolved mechanisms to inhibit the aminoglycosides' action, which occurs via protonated amine and/or hydroxyl interactions with the ribosomal RNA of the bacterial 30S ribosomal subunit. Three main mechanisms of aminoglycoside resistance mechanisms are currently and widely accepted: aminoglycoside modifying enzymes, ribosomal mutations, and active efflux of the drug out of the bacteria.\n",
        "\n",
        "Aminoglycoside-modifying enzymes inactivate the aminoglycoside by covalently attaching either a phosphate, nucleotide, or acetyl moiety to either the amine or the alcohol key functional group (or both groups) of the antibiotic. This changes the charge or sterically hinders the antibiotic, decreasing its ribosomal binding affinity. In S. aureus, the best-characterized aminoglycoside-modifying enzyme is aminoglycoside adenylyltransferase 4' IA (ANT(4')IA). This enzyme has been solved by X-ray crystallography. The enzyme is able to attach an adenyl moiety to the 4' hydroxyl group of many aminoglycosides, including kamamycin and gentamicin.\n",
        "\n",
        "Glycopeptide resistance is mediated by acquisition of the vanA gene, which originates from the enterococci and codes for an enzyme that produces an alternative peptidoglycan to which vancomycin will not bind.\n",
        "\n",
        "Today, S. aureus has become resistant to many commonly used antibiotics. In the UK, only 2% of all S. aureus isolates are sensitive to penicillin, with a similar picture in the rest of the world. The β-lactamase-resistant penicillins (methicillin, oxacillin, cloxacillin, and flucloxacillin) were developed to treat penicillin-resistant S. aureus, and are still used as first-line treatment. Methicillin was the first antibiotic in this class to be used (it was introduced in 1959), but, only two years later, the first case of MRSA was reported in England.\n",
        "\n",
        "Despite this, MRSA generally remained an uncommon finding, even in hospital settings, until the 1990s, when the MRSA prevalence in hospitals exploded, and it is now endemic.\n",
        "\n",
        "MRSA infections in both the hospital and community setting are commonly treated with non-β-lactam antibiotics, such as clindamycin (a lincosamine) and co-trimoxazole (also commonly known as trimethoprim/sulfamethoxazole). Resistance to these antibiotics has also led to the use of new, broad-spectrum anti-Gram-positive antibiotics, such as linezolid, because of its availability as an oral drug. First-line treatment for serious invasive infections due to MRSA is currently glycopeptide antibiotics (vancomycin and teicoplanin). A number of problems with these antibiotics occur, such as the need for intravenous administration (no oral preparation is available), toxicity, and the need to monitor drug levels regularly by blood tests. Also, glycopeptide antibiotics do not penetrate very well into infected tissues (this is a particular concern with infections of the brain and meninges and in endocarditis). Glycopeptides must not be used to treat methicillin-sensitive S. aureus (MSSA), as outcomes are inferior.\n",
        "\n",
        "Because of the high level of resistance to penicillins and because of the potential for MRSA to develop resistance to vancomycin, the U.S. Centers for Disease Control and Prevention has published guidelines for the appropriate use of vancomycin. In situations where the incidence of MRSA infections is known to be high, the attending physician may choose to use a glycopeptide antibiotic until the identity of the infecting organism is known. After the infection is confirmed to be due to a methicillin-susceptible strain of S. aureus, treatment can be changed to flucloxacillin or even penicillin], as appropriate.\n",
        "\n",
        "Vancomycin-resistant S. aureus (VRSA) is a strain of S. aureus that has become resistant to the glycopeptides. The first case of vancomycin-intermediate S. aureus (VISA) was reported in Japan in 1996;  but the first case of S. aureus truly resistant to glycopeptide antibiotics was only reported in 2002. Three cases of VRSA infection had been reported in the United States as of 2005."
      ]
    },
    {
      "cell_type": "markdown",
      "metadata": {
        "id": "pclAd8giV5i8",
        "colab_type": "text"
      },
      "source": [
        "#Code"
      ]
    },
    {
      "cell_type": "markdown",
      "metadata": {
        "id": "gbklz2-0WN3n",
        "colab_type": "text"
      },
      "source": [
        "## Data preparation"
      ]
    },
    {
      "cell_type": "markdown",
      "metadata": {
        "id": "eHkhXnd2chC7",
        "colab_type": "text"
      },
      "source": [
        "### Installations"
      ]
    },
    {
      "cell_type": "code",
      "metadata": {
        "id": "eLl6twGDN9g_",
        "colab_type": "code",
        "outputId": "1f6aedcf-d069-422b-910a-da0cd5e35ac1",
        "colab": {
          "base_uri": "https://localhost:8080/",
          "height": 71
        }
      },
      "source": [
        "! pip install biopython"
      ],
      "execution_count": 0,
      "outputs": [
        {
          "output_type": "stream",
          "text": [
            "Requirement already satisfied: biopython in /usr/local/lib/python3.6/dist-packages (1.72)\n",
            "Requirement already satisfied: numpy in /usr/local/lib/python3.6/dist-packages (from biopython) (1.14.5)\n"
          ],
          "name": "stdout"
        }
      ]
    },
    {
      "cell_type": "code",
      "metadata": {
        "id": "BJPvY-WSkaqV",
        "colab_type": "code",
        "outputId": "6b031555-896a-4f80-d9ab-744b889c2f76",
        "colab": {
          "base_uri": "https://localhost:8080/",
          "height": 71
        }
      },
      "source": [
        "! pip install python-Levenshtein"
      ],
      "execution_count": 0,
      "outputs": [
        {
          "output_type": "stream",
          "text": [
            "Requirement already satisfied: python-Levenshtein in /usr/local/lib/python3.6/dist-packages (0.12.0)\r\n",
            "Requirement already satisfied: setuptools in /usr/local/lib/python3.6/dist-packages (from python-Levenshtein) (39.1.0)\r\n"
          ],
          "name": "stdout"
        }
      ]
    },
    {
      "cell_type": "markdown",
      "metadata": {
        "id": "rLJd-PolckdZ",
        "colab_type": "text"
      },
      "source": [
        "### Imports"
      ]
    },
    {
      "cell_type": "code",
      "metadata": {
        "id": "jnyiC0wbN_X6",
        "colab_type": "code",
        "colab": {}
      },
      "source": [
        "from Bio import Entrez\n",
        "from Bio.Seq import Seq\n",
        "from Bio import SeqIO\n",
        "\n",
        "import re\n",
        "import collections\n",
        "from Levenshtein import distance\n",
        "\n",
        "\n",
        "import pandas as pd\n",
        "import numpy as np\n",
        "\n",
        "import matplotlib.pyplot as plt\n",
        "from matplotlib import cm\n",
        "\n",
        "import sklearn.cluster\n",
        "from sklearn.feature_extraction.text import TfidfVectorizer\n",
        "from sklearn.metrics import adjusted_rand_score\n",
        "from sklearn.model_selection import train_test_split\n",
        "from sklearn.neural_network import MLPClassifier\n",
        "from sklearn.metrics import classification_report,confusion_matrix\n",
        "from sklearn.metrics import accuracy_score\n",
        "from sklearn.cluster import DBSCAN\n",
        "from sklearn.manifold import TSNE"
      ],
      "execution_count": 0,
      "outputs": []
    },
    {
      "cell_type": "markdown",
      "metadata": {
        "id": "jeoND9LJcm9g",
        "colab_type": "text"
      },
      "source": [
        "### Getting data from NCBI"
      ]
    },
    {
      "cell_type": "code",
      "metadata": {
        "id": "xcKkmJRUOF-W",
        "colab_type": "code",
        "outputId": "f941f3a7-0db8-4ce9-edb9-a8f2a5bc37ba",
        "colab": {
          "base_uri": "https://localhost:8080/",
          "height": 204
        }
      },
      "source": [
        "l=[]\n",
        "\n",
        "Entrez.email = 'nasbelyakova@gmail.com'\n",
        "\n",
        "handle = Entrez.esearch(db=\"nucleotide\", term='\"Staphylococcus aureus\"[ORGN] NOT genome', retmax=10000)\n",
        "record = Entrez.read(handle, validate = False)\n",
        "idlist=record['IdList']\n",
        "\n",
        "handle2 = Entrez.efetch(db=\"nucleotide\", id=idlist, rettype=\"fasta\", retmode=\"text\")\n",
        "\n",
        "for seq_record in SeqIO.parse(handle2,'fasta'):\n",
        "  l.append([seq_record.id, seq_record.seq, seq_record.description.split(',')[0]])\n",
        "      \n",
        "\n",
        "a=pd.DataFrame(l)\n",
        "\n",
        "a.head()"
      ],
      "execution_count": 0,
      "outputs": [
        {
          "output_type": "execute_result",
          "data": {
            "text/html": [
              "<div>\n",
              "<style scoped>\n",
              "    .dataframe tbody tr th:only-of-type {\n",
              "        vertical-align: middle;\n",
              "    }\n",
              "\n",
              "    .dataframe tbody tr th {\n",
              "        vertical-align: top;\n",
              "    }\n",
              "\n",
              "    .dataframe thead th {\n",
              "        text-align: right;\n",
              "    }\n",
              "</style>\n",
              "<table border=\"1\" class=\"dataframe\">\n",
              "  <thead>\n",
              "    <tr style=\"text-align: right;\">\n",
              "      <th></th>\n",
              "      <th>0</th>\n",
              "      <th>1</th>\n",
              "      <th>2</th>\n",
              "    </tr>\n",
              "  </thead>\n",
              "  <tbody>\n",
              "    <tr>\n",
              "      <th>0</th>\n",
              "      <td>MH603395.1</td>\n",
              "      <td>(G, T, C, C, C, A, G, A, T, T, C, T, T, A, C, ...</td>\n",
              "      <td>MH603395.1 Staphylococcus aureus strain AT2 16...</td>\n",
              "    </tr>\n",
              "    <tr>\n",
              "      <th>1</th>\n",
              "      <td>MH603394.1</td>\n",
              "      <td>(G, C, T, T, A, C, A, C, A, T, G, C, A, A, G, ...</td>\n",
              "      <td>MH603394.1 Staphylococcus aureus strain AT1 16...</td>\n",
              "    </tr>\n",
              "    <tr>\n",
              "      <th>2</th>\n",
              "      <td>MH595962.1</td>\n",
              "      <td>(G, C, T, G, C, A, G, C, C, A, A, G, C, A, T, ...</td>\n",
              "      <td>MH595962.1 Staphylococcus aureus strain pm40 1...</td>\n",
              "    </tr>\n",
              "    <tr>\n",
              "      <th>3</th>\n",
              "      <td>MH595961.1</td>\n",
              "      <td>(C, T, T, T, G, C, C, G, C, C, T, C, T, C, C, ...</td>\n",
              "      <td>MH595961.1 Staphylococcus aureus strain pm39 1...</td>\n",
              "    </tr>\n",
              "    <tr>\n",
              "      <th>4</th>\n",
              "      <td>MH595960.1</td>\n",
              "      <td>(G, C, A, C, A, T, A, G, C, C, G, A, A, C, T, ...</td>\n",
              "      <td>MH595960.1 Staphylococcus aureus strain pm38 1...</td>\n",
              "    </tr>\n",
              "  </tbody>\n",
              "</table>\n",
              "</div>"
            ],
            "text/plain": [
              "            0                                                  1  \\\n",
              "0  MH603395.1  (G, T, C, C, C, A, G, A, T, T, C, T, T, A, C, ...   \n",
              "1  MH603394.1  (G, C, T, T, A, C, A, C, A, T, G, C, A, A, G, ...   \n",
              "2  MH595962.1  (G, C, T, G, C, A, G, C, C, A, A, G, C, A, T, ...   \n",
              "3  MH595961.1  (C, T, T, T, G, C, C, G, C, C, T, C, T, C, C, ...   \n",
              "4  MH595960.1  (G, C, A, C, A, T, A, G, C, C, G, A, A, C, T, ...   \n",
              "\n",
              "                                                   2  \n",
              "0  MH603395.1 Staphylococcus aureus strain AT2 16...  \n",
              "1  MH603394.1 Staphylococcus aureus strain AT1 16...  \n",
              "2  MH595962.1 Staphylococcus aureus strain pm40 1...  \n",
              "3  MH595961.1 Staphylococcus aureus strain pm39 1...  \n",
              "4  MH595960.1 Staphylococcus aureus strain pm38 1...  "
            ]
          },
          "metadata": {
            "tags": []
          },
          "execution_count": 4
        }
      ]
    },
    {
      "cell_type": "markdown",
      "metadata": {
        "id": "_a-4StSPitma",
        "colab_type": "text"
      },
      "source": [
        "### Numerizing labels"
      ]
    },
    {
      "cell_type": "code",
      "metadata": {
        "id": "K7HPaSweYh4m",
        "colab_type": "code",
        "outputId": "9fbe75b5-185a-48d1-a46c-da0ed27f540d",
        "colab": {
          "base_uri": "https://localhost:8080/",
          "height": 51
        }
      },
      "source": [
        "labels=[]\n",
        "resistance=[]\n",
        "\n",
        "for i in a[2]:\n",
        "  if 'resistance' in i or 'efflux' in i :\n",
        "    \n",
        "    if i in resistance:\n",
        "      labels.append(resisitance.index(i))\n",
        "    else:\n",
        "      resistance.append(i)\n",
        "      labels.append(resistance.index(i))\n",
        "\n",
        "    \n",
        "  else:\n",
        "    labels.append(0)\n",
        "\n",
        "a['label']=labels\n",
        "print(len(labels))\n",
        "print(len(set(labels)))"
      ],
      "execution_count": 0,
      "outputs": [
        {
          "output_type": "stream",
          "text": [
            "10000\n",
            "205\n"
          ],
          "name": "stdout"
        }
      ]
    },
    {
      "cell_type": "code",
      "metadata": {
        "id": "e6zNXDOafFRJ",
        "colab_type": "code",
        "outputId": "763441df-7836-41d4-9d82-09e85320d788",
        "colab": {
          "base_uri": "https://localhost:8080/",
          "height": 71
        }
      },
      "source": [
        "N=9\n",
        "    \n",
        "data={}\n",
        "\n",
        "for i in set(a['label']):\n",
        "  data[i]=collections.Counter()\n",
        "  b=a[a['label']==i]\n",
        "  for k in list(b[1]): \n",
        "    data[i].update([k[j:j+N] for j in range(len(k)-N+1)])\n",
        "    \n",
        "for k,v in data.items():  \n",
        "  data[k]=[i[0] for i in v.most_common(6)]"
      ],
      "execution_count": 0,
      "outputs": [
        {
          "output_type": "stream",
          "text": [
            "/usr/local/lib/python3.6/dist-packages/Bio/Seq.py:163: BiopythonWarning: Biopython Seq objects now use string comparison. Older versions of Biopython used object comparison. During this transition, please use hash(id(my_seq)) or my_dict[id(my_seq)] if you want the old behaviour, or use hash(str(my_seq)) or my_dict[str(my_seq)] for the new string hashing behaviour.\n",
            "  \"the new string hashing behaviour.\", BiopythonWarning)\n"
          ],
          "name": "stderr"
        }
      ]
    },
    {
      "cell_type": "code",
      "metadata": {
        "id": "5zS7qMAlfFL1",
        "colab_type": "code",
        "colab": {}
      },
      "source": [
        "# Counting occurenses of most common papperns in gene sequenses\n",
        "x=[]\n",
        "for i in a.iterrows():\n",
        "  res=[] \n",
        "  \n",
        "  k=i[1][1]\n",
        "  k_s= [k[j:j+N] for j in range(len(k)-N+1)]\n",
        "  \n",
        "  for j in data[i[1]['label']]:\n",
        "    dist= [1 if distance(str(o),str(j)) <= N/4 else 0 for o in k_s]\n",
        "    res.append(sum(dist))\n",
        "  x.append(res)"
      ],
      "execution_count": 0,
      "outputs": []
    },
    {
      "cell_type": "markdown",
      "metadata": {
        "id": "H4TcgLe9kuPb",
        "colab_type": "text"
      },
      "source": [
        "## Classifier"
      ]
    },
    {
      "cell_type": "markdown",
      "metadata": {
        "id": "f76LFNR3k912",
        "colab_type": "text"
      },
      "source": [
        "### Creating"
      ]
    },
    {
      "cell_type": "markdown",
      "metadata": {
        "id": "cGEhmJqtk9s3",
        "colab_type": "text"
      },
      "source": [
        "#### Split data to test and training sets "
      ]
    },
    {
      "cell_type": "code",
      "metadata": {
        "id": "fgqG07zffFDr",
        "colab_type": "code",
        "colab": {}
      },
      "source": [
        "X_train, X_test, y_train, y_test = train_test_split( x, list(a['label']) )"
      ],
      "execution_count": 0,
      "outputs": []
    },
    {
      "cell_type": "markdown",
      "metadata": {
        "id": "KU872YRnlNmE",
        "colab_type": "text"
      },
      "source": [
        "#### Traning classifier "
      ]
    },
    {
      "cell_type": "markdown",
      "metadata": {
        "id": "Ovr7RgqzlZ4e",
        "colab_type": "text"
      },
      "source": [
        "For this work will be used **MLPClassifier (Multi-layer Perceptron)**.\n",
        "\n",
        "Multi-layer Perceptron (MLP) is a supervised learning algorithm that learns a function by training on a dataset, where m is the number of dimensions for input and o is the number of dimensions for output. Given a set of features X = {x_1, x_2, ..., x_m}  and a target y, it can learn a non-linear function approximator for either classification or regression. It is different from logistic regression, in that between the input and the output layer, there can be one or more non-linear layers, called hidden layers. Figure below shows a one hidden layer MLP with scalar output.\n",
        "\n",
        "\n",
        "![alt text](http://scikit-learn.org/stable/_images/multilayerperceptron_network.png)\n",
        "\n",
        "The leftmost layer, known as the input layer, consists of a set of neurons \\{x_i | x_1, x_2, ..., x_m\\} representing the input features. Each neuron in the hidden layer transforms the values from the previous layer with a weighted linear summation w_1x_1 + w_2x_2 + ... + w_mx_m, followed by a non-linear activation function \n",
        "(http://scikit-learn.org/stable/_images/math/abdd0d89cecdca094c69cea06054e115ad071753.png)      ike the hyperbolic tan function. The output layer receives the values from the last hidden layer and transforms them into output values.\n",
        "\n",
        "The **advantages** of Multi-layer Perceptron are:\n",
        "\n",
        "\n",
        "1.   Capability to learn non-linear models.\n",
        "2.   Capability to learn models in real-time (on-line learning) using partial_fit.\n",
        "\n",
        "\n",
        "The **disadvantages** of Multi-layer Perceptron (MLP) include:\n",
        "\n",
        "1.  MLP with hidden layers have a non-convex loss function where there exists more than one local minimum. Therefore different random weight initializations can lead to different validation accuracy.\n",
        "2.  MLP requires tuning a number of hyperparameters such as the number of hidden neurons, layers, and iterations.\n",
        "3. MLP is sensitive to feature scaling."
      ]
    },
    {
      "cell_type": "code",
      "metadata": {
        "id": "oJZfG-fQfE06",
        "colab_type": "code",
        "outputId": "7eca2362-e56f-4e39-c1b9-bfbd96f337e9",
        "colab": {
          "base_uri": "https://localhost:8080/",
          "height": 136
        }
      },
      "source": [
        "mlp = MLPClassifier()\n",
        "mlp.fit(X_train, y_train )"
      ],
      "execution_count": 0,
      "outputs": [
        {
          "output_type": "execute_result",
          "data": {
            "text/plain": [
              "MLPClassifier(activation='relu', alpha=0.0001, batch_size='auto', beta_1=0.9,\n",
              "       beta_2=0.999, early_stopping=False, epsilon=1e-08,\n",
              "       hidden_layer_sizes=(100,), learning_rate='constant',\n",
              "       learning_rate_init=0.001, max_iter=200, momentum=0.9,\n",
              "       nesterovs_momentum=True, power_t=0.5, random_state=None,\n",
              "       shuffle=True, solver='adam', tol=0.0001, validation_fraction=0.1,\n",
              "       verbose=False, warm_start=False)"
            ]
          },
          "metadata": {
            "tags": []
          },
          "execution_count": 9
        }
      ]
    },
    {
      "cell_type": "markdown",
      "metadata": {
        "id": "tSIRFpdfyKpz",
        "colab_type": "text"
      },
      "source": [
        "### Evaluating performance of classifier "
      ]
    },
    {
      "cell_type": "code",
      "metadata": {
        "id": "Sl9P08Kddogf",
        "colab_type": "code",
        "colab": {}
      },
      "source": [
        "predictions = mlp.predict(X_test)"
      ],
      "execution_count": 0,
      "outputs": []
    },
    {
      "cell_type": "code",
      "metadata": {
        "id": "hbCfVYaOltKt",
        "colab_type": "code",
        "outputId": "3cd6eab0-c5a3-4c91-8cbe-5b946020593a",
        "colab": {
          "base_uri": "https://localhost:8080/",
          "height": 136
        }
      },
      "source": [
        "confusion_matrix(y_test,predictions)\n"
      ],
      "execution_count": 0,
      "outputs": [
        {
          "output_type": "execute_result",
          "data": {
            "text/plain": [
              "array([[2433,    0,    0, ...,    0,    0,    0],\n",
              "       [   0,    0,    0, ...,    0,    0,    0],\n",
              "       [   0,    0,    0, ...,    0,    0,    0],\n",
              "       ...,\n",
              "       [   0,    0,    0, ...,    0,    0,    0],\n",
              "       [   0,    0,    0, ...,    0,    0,    0],\n",
              "       [   0,    0,    0, ...,    0,    0,    0]])"
            ]
          },
          "metadata": {
            "tags": []
          },
          "execution_count": 17
        }
      ]
    },
    {
      "cell_type": "code",
      "metadata": {
        "id": "qLARTux2lvqU",
        "colab_type": "code",
        "outputId": "34691521-b5db-4eb3-8ec3-306faf708a32",
        "colab": {
          "base_uri": "https://localhost:8080/",
          "height": 1805
        }
      },
      "source": [
        "print(classification_report(y_test,predictions))"
      ],
      "execution_count": 0,
      "outputs": [
        {
          "output_type": "stream",
          "text": [
            "             precision    recall  f1-score   support\n",
            "\n",
            "          0       0.99      1.00      1.00      2434\n",
            "          1       0.00      0.00      0.00         1\n",
            "          6       0.00      0.00      0.00         0\n",
            "          7       0.00      0.00      0.00         1\n",
            "         11       0.00      0.00      0.00         1\n",
            "         13       0.00      0.00      0.00         0\n",
            "         15       0.00      0.00      0.00         1\n",
            "         17       0.00      0.00      0.00         1\n",
            "         18       0.00      0.00      0.00         0\n",
            "         19       0.00      0.00      0.00         1\n",
            "         21       0.00      0.00      0.00         1\n",
            "         22       0.00      0.00      0.00         1\n",
            "         23       0.00      0.00      0.00         0\n",
            "         27       0.00      0.00      0.00         0\n",
            "         28       0.00      0.00      0.00         1\n",
            "         29       0.00      0.00      0.00         1\n",
            "         36       0.00      0.00      0.00         1\n",
            "         40       0.00      0.00      0.00         1\n",
            "         45       0.00      0.00      0.00         1\n",
            "         46       0.00      0.00      0.00         0\n",
            "         47       0.00      0.00      0.00         0\n",
            "         48       0.00      0.00      0.00         0\n",
            "         50       0.00      0.00      0.00         1\n",
            "         54       0.00      0.00      0.00         1\n",
            "         55       0.00      0.00      0.00         1\n",
            "         58       0.00      0.00      0.00         1\n",
            "         59       0.00      0.00      0.00         1\n",
            "         67       0.00      0.00      0.00         1\n",
            "         70       0.00      0.00      0.00         1\n",
            "         74       0.00      0.00      0.00         0\n",
            "         77       0.00      0.00      0.00         1\n",
            "         83       0.00      0.00      0.00         1\n",
            "         86       0.00      0.00      0.00         1\n",
            "         87       0.00      0.00      0.00         0\n",
            "         88       0.00      0.00      0.00         1\n",
            "         90       0.00      0.00      0.00         1\n",
            "         91       0.00      0.00      0.00         0\n",
            "         92       0.00      0.00      0.00         1\n",
            "         93       0.00      0.00      0.00         0\n",
            "         94       0.00      0.00      0.00         1\n",
            "         96       0.00      0.00      0.00         1\n",
            "         99       0.00      0.00      0.00         0\n",
            "        100       0.00      0.00      0.00         1\n",
            "        101       0.00      0.00      0.00         1\n",
            "        104       0.00      0.00      0.00         1\n",
            "        106       0.00      0.00      0.00         1\n",
            "        107       0.00      0.00      0.00         1\n",
            "        109       0.00      0.00      0.00         1\n",
            "        111       0.00      0.00      0.00         1\n",
            "        112       0.00      0.00      0.00         0\n",
            "        114       0.00      0.00      0.00         1\n",
            "        117       0.00      0.00      0.00         1\n",
            "        118       0.00      0.00      0.00         0\n",
            "        120       0.00      0.00      0.00         1\n",
            "        121       0.00      0.00      0.00         0\n",
            "        122       0.00      0.00      0.00         0\n",
            "        123       0.00      0.00      0.00         1\n",
            "        126       0.00      0.00      0.00         1\n",
            "        127       0.00      0.00      0.00         1\n",
            "        129       0.00      0.00      0.00         1\n",
            "        130       0.00      0.00      0.00         0\n",
            "        131       0.00      0.00      0.00         0\n",
            "        132       0.00      0.00      0.00         0\n",
            "        133       0.00      0.00      0.00         1\n",
            "        136       0.00      0.00      0.00         1\n",
            "        137       0.00      0.00      0.00         0\n",
            "        141       0.00      0.00      0.00         1\n",
            "        145       0.00      0.00      0.00         1\n",
            "        148       0.00      0.00      0.00         1\n",
            "        149       0.00      0.00      0.00         1\n",
            "        150       0.00      0.00      0.00         1\n",
            "        152       0.00      0.00      0.00         0\n",
            "        153       0.00      0.00      0.00         1\n",
            "        154       0.00      0.00      0.00         1\n",
            "        156       0.00      0.00      0.00         0\n",
            "        159       0.00      0.00      0.00         0\n",
            "        161       0.00      0.00      0.00         0\n",
            "        162       0.00      0.00      0.00         1\n",
            "        163       0.00      0.00      0.00         1\n",
            "        164       0.00      0.00      0.00         1\n",
            "        165       0.00      0.00      0.00         1\n",
            "        174       0.00      0.00      0.00         1\n",
            "        180       0.00      0.00      0.00         0\n",
            "        181       0.00      0.00      0.00         1\n",
            "        183       0.00      0.00      0.00         1\n",
            "        184       0.00      0.00      0.00         1\n",
            "        187       0.00      0.00      0.00         1\n",
            "        189       0.00      0.00      0.00         1\n",
            "        190       0.00      0.00      0.00         0\n",
            "        192       0.00      0.00      0.00         1\n",
            "        193       0.00      0.00      0.00         0\n",
            "        196       0.00      0.00      0.00         1\n",
            "        200       0.00      0.00      0.00         1\n",
            "        202       0.00      0.00      0.00         1\n",
            "        203       0.00      0.00      0.00         1\n",
            "\n",
            "avg / total       0.97      0.97      0.97      2500\n",
            "\n"
          ],
          "name": "stdout"
        },
        {
          "output_type": "stream",
          "text": [
            "/usr/local/lib/python3.6/dist-packages/sklearn/metrics/classification.py:1135: UndefinedMetricWarning: Precision and F-score are ill-defined and being set to 0.0 in labels with no predicted samples.\n",
            "  'precision', 'predicted', average, warn_for)\n",
            "/usr/local/lib/python3.6/dist-packages/sklearn/metrics/classification.py:1137: UndefinedMetricWarning: Recall and F-score are ill-defined and being set to 0.0 in labels with no true samples.\n",
            "  'recall', 'true', average, warn_for)\n"
          ],
          "name": "stderr"
        }
      ]
    },
    {
      "cell_type": "code",
      "metadata": {
        "id": "UqhobRSUl0Wv",
        "colab_type": "code",
        "outputId": "2493a00f-e412-4d32-812d-cce35809e799",
        "colab": {
          "base_uri": "https://localhost:8080/",
          "height": 34
        }
      },
      "source": [
        "from sklearn.metrics import accuracy_score\n",
        "accuracy_score(y_test, predictions)"
      ],
      "execution_count": 0,
      "outputs": [
        {
          "output_type": "execute_result",
          "data": {
            "text/plain": [
              "0.9732"
            ]
          },
          "metadata": {
            "tags": []
          },
          "execution_count": 19
        }
      ]
    },
    {
      "cell_type": "markdown",
      "metadata": {
        "id": "gFBMz8G9Q-4M",
        "colab_type": "text"
      },
      "source": [
        " https://en.wikipedia.org/wiki/Gram-positive_bacteria\n",
        " \n",
        " https://www.ncbi.nlm.nih.gov/books/NBK441868/\n",
        " \n",
        " https://en.wikipedia.org/wiki/Staphylococcus_aureus#Antibiotic_resistance\n",
        " \n",
        " https://www.ncbi.nlm.nih.gov/pmc/articles/PMC5672523/?log$=activity\n",
        " \n",
        " "
      ]
    }
  ]
}